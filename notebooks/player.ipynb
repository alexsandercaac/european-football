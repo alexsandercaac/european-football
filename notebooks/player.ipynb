{
 "cells": [
  {
   "attachments": {},
   "cell_type": "markdown",
   "metadata": {},
   "source": [
    "## Data Visualisation: Players\n",
    "\n",
    "Notebook for fast visualisation of data available in the `Player` and `PLayer attributes` tables of the dataset."
   ]
  },
  {
   "cell_type": "code",
   "execution_count": 1,
   "metadata": {},
   "outputs": [],
   "source": [
    "import pandas as pd\n",
    "import numpy as np\n",
    "from rich import print, pretty\n",
    "pretty.install()"
   ]
  },
  {
   "cell_type": "code",
   "execution_count": 2,
   "metadata": {},
   "outputs": [],
   "source": [
    "df_player = pd.read_csv(\"../data/interim/player.csv\")\n",
    "df_player_attributes = pd.read_csv(\"../data/interim/player_attributes.csv\")"
   ]
  },
  {
   "attachments": {},
   "cell_type": "markdown",
   "metadata": {},
   "source": [
    "***"
   ]
  },
  {
   "cell_type": "code",
   "execution_count": 3,
   "metadata": {},
   "outputs": [
    {
     "data": {
      "text/html": [
       "<pre style=\"white-space:pre;overflow-x:auto;line-height:normal;font-family:Menlo,'DejaVu Sans Mono',consolas,'Courier New',monospace\"><span style=\"font-weight: bold\">[</span><span style=\"color: #008000; text-decoration-color: #008000\">'id'</span>, <span style=\"color: #008000; text-decoration-color: #008000\">'player_api_id'</span>, <span style=\"color: #008000; text-decoration-color: #008000\">'player_name'</span>, <span style=\"color: #008000; text-decoration-color: #008000\">'player_fifa_api_id'</span>, <span style=\"color: #008000; text-decoration-color: #008000\">'birthday'</span>, <span style=\"color: #008000; text-decoration-color: #008000\">'height'</span>, <span style=\"color: #008000; text-decoration-color: #008000\">'weight'</span><span style=\"font-weight: bold\">]</span>\n",
       "</pre>\n"
      ],
      "text/plain": [
       "\u001b[1m[\u001b[0m\u001b[32m'id'\u001b[0m, \u001b[32m'player_api_id'\u001b[0m, \u001b[32m'player_name'\u001b[0m, \u001b[32m'player_fifa_api_id'\u001b[0m, \u001b[32m'birthday'\u001b[0m, \u001b[32m'height'\u001b[0m, \u001b[32m'weight'\u001b[0m\u001b[1m]\u001b[0m\n"
      ]
     },
     "metadata": {},
     "output_type": "display_data"
    }
   ],
   "source": [
    "print(list(df_player.columns))"
   ]
  },
  {
   "cell_type": "code",
   "execution_count": 4,
   "metadata": {},
   "outputs": [
    {
     "data": {
      "text/html": [
       "<pre style=\"white-space:pre;overflow-x:auto;line-height:normal;font-family:Menlo,'DejaVu Sans Mono',consolas,'Courier New',monospace\">Is the <span style=\"color: #008000; text-decoration-color: #008000\">'id'</span> a row counter: <span style=\"color: #ff0000; text-decoration-color: #ff0000; font-style: italic\">False</span>\n",
       "</pre>\n"
      ],
      "text/plain": [
       "Is the \u001b[32m'id'\u001b[0m a row counter: \u001b[3;91mFalse\u001b[0m\n"
      ]
     },
     "metadata": {},
     "output_type": "display_data"
    },
    {
     "data": {
      "text/html": [
       "<pre style=\"white-space:pre;overflow-x:auto;line-height:normal;font-family:Menlo,'DejaVu Sans Mono',consolas,'Courier New',monospace\">Is the <span style=\"color: #008000; text-decoration-color: #008000\">'id'</span> column unique: <span style=\"color: #00ff00; text-decoration-color: #00ff00; font-style: italic\">True</span>\n",
       "</pre>\n"
      ],
      "text/plain": [
       "Is the \u001b[32m'id'\u001b[0m column unique: \u001b[3;92mTrue\u001b[0m\n"
      ]
     },
     "metadata": {},
     "output_type": "display_data"
    }
   ],
   "source": [
    "# Check if column id is a counter for the rows\n",
    "\n",
    "print(\"Is the 'id' a row counter:\", np.sum(df_player[\"id\"].diff() != 1) == 0)\n",
    "print(\"Is the 'id' column unique:\", df_player[\"id\"].is_unique)"
   ]
  },
  {
   "attachments": {},
   "cell_type": "markdown",
   "metadata": {},
   "source": [
    "We have 7 columns in the dataset.\n",
    "\n",
    "* `id`: numeric unique index, not identical to row counter\n",
    "* `player_api_id`: player id for some unknown api \n",
    "* `player_name`: string with players names. sometimes its their full name, sometimes how they're known on the pitch\n",
    "* `player_fifa_api_id`: unique id for the EA FIFA game franchise API for the year of 2016\n",
    "* `birthday`: date of birth, in Y-m-d H:M:S. the hours, minutes and seconds are all set to 00:00:00\n",
    "* `height`: player height in centimeters (cm)\n",
    "* `weight`: player weight in pounds (lb)"
   ]
  },
  {
   "cell_type": "code",
   "execution_count": 5,
   "metadata": {},
   "outputs": [
    {
     "data": {
      "text/html": [
       "<div>\n",
       "<style scoped>\n",
       "    .dataframe tbody tr th:only-of-type {\n",
       "        vertical-align: middle;\n",
       "    }\n",
       "\n",
       "    .dataframe tbody tr th {\n",
       "        vertical-align: top;\n",
       "    }\n",
       "\n",
       "    .dataframe thead th {\n",
       "        text-align: right;\n",
       "    }\n",
       "</style>\n",
       "<table border=\"1\" class=\"dataframe\">\n",
       "  <thead>\n",
       "    <tr style=\"text-align: right;\">\n",
       "      <th></th>\n",
       "      <th>id</th>\n",
       "      <th>player_api_id</th>\n",
       "      <th>player_name</th>\n",
       "      <th>player_fifa_api_id</th>\n",
       "      <th>birthday</th>\n",
       "      <th>height</th>\n",
       "      <th>weight</th>\n",
       "    </tr>\n",
       "  </thead>\n",
       "  <tbody>\n",
       "    <tr>\n",
       "      <th>0</th>\n",
       "      <td>1</td>\n",
       "      <td>505942</td>\n",
       "      <td>Aaron Appindangoye</td>\n",
       "      <td>218353</td>\n",
       "      <td>1992-02-29 00:00:00</td>\n",
       "      <td>182.88</td>\n",
       "      <td>187</td>\n",
       "    </tr>\n",
       "    <tr>\n",
       "      <th>1</th>\n",
       "      <td>2</td>\n",
       "      <td>155782</td>\n",
       "      <td>Aaron Cresswell</td>\n",
       "      <td>189615</td>\n",
       "      <td>1989-12-15 00:00:00</td>\n",
       "      <td>170.18</td>\n",
       "      <td>146</td>\n",
       "    </tr>\n",
       "    <tr>\n",
       "      <th>2</th>\n",
       "      <td>3</td>\n",
       "      <td>162549</td>\n",
       "      <td>Aaron Doran</td>\n",
       "      <td>186170</td>\n",
       "      <td>1991-05-13 00:00:00</td>\n",
       "      <td>170.18</td>\n",
       "      <td>163</td>\n",
       "    </tr>\n",
       "    <tr>\n",
       "      <th>3</th>\n",
       "      <td>4</td>\n",
       "      <td>30572</td>\n",
       "      <td>Aaron Galindo</td>\n",
       "      <td>140161</td>\n",
       "      <td>1982-05-08 00:00:00</td>\n",
       "      <td>182.88</td>\n",
       "      <td>198</td>\n",
       "    </tr>\n",
       "    <tr>\n",
       "      <th>4</th>\n",
       "      <td>5</td>\n",
       "      <td>23780</td>\n",
       "      <td>Aaron Hughes</td>\n",
       "      <td>17725</td>\n",
       "      <td>1979-11-08 00:00:00</td>\n",
       "      <td>182.88</td>\n",
       "      <td>154</td>\n",
       "    </tr>\n",
       "  </tbody>\n",
       "</table>\n",
       "</div>"
      ]
     },
     "execution_count": 5,
     "metadata": {},
     "output_type": "execute_result"
    }
   ],
   "source": [
    "df_player.head()"
   ]
  },
  {
   "cell_type": "code",
   "execution_count": 6,
   "metadata": {},
   "outputs": [
    {
     "data": {
      "text/html": [
       "<div>\n",
       "<style scoped>\n",
       "    .dataframe tbody tr th:only-of-type {\n",
       "        vertical-align: middle;\n",
       "    }\n",
       "\n",
       "    .dataframe tbody tr th {\n",
       "        vertical-align: top;\n",
       "    }\n",
       "\n",
       "    .dataframe thead th {\n",
       "        text-align: right;\n",
       "    }\n",
       "</style>\n",
       "<table border=\"1\" class=\"dataframe\">\n",
       "  <thead>\n",
       "    <tr style=\"text-align: right;\">\n",
       "      <th></th>\n",
       "      <th>id</th>\n",
       "      <th>player_api_id</th>\n",
       "      <th>player_fifa_api_id</th>\n",
       "      <th>height</th>\n",
       "      <th>weight</th>\n",
       "    </tr>\n",
       "  </thead>\n",
       "  <tbody>\n",
       "    <tr>\n",
       "      <th>count</th>\n",
       "      <td>11060.000000</td>\n",
       "      <td>11060.000000</td>\n",
       "      <td>11060.000000</td>\n",
       "      <td>11060.000000</td>\n",
       "      <td>11060.000000</td>\n",
       "    </tr>\n",
       "    <tr>\n",
       "      <th>mean</th>\n",
       "      <td>5537.511392</td>\n",
       "      <td>156582.427215</td>\n",
       "      <td>165664.910488</td>\n",
       "      <td>181.867445</td>\n",
       "      <td>168.380289</td>\n",
       "    </tr>\n",
       "    <tr>\n",
       "      <th>std</th>\n",
       "      <td>3197.692647</td>\n",
       "      <td>160713.700624</td>\n",
       "      <td>58649.928360</td>\n",
       "      <td>6.369201</td>\n",
       "      <td>14.990217</td>\n",
       "    </tr>\n",
       "    <tr>\n",
       "      <th>min</th>\n",
       "      <td>1.000000</td>\n",
       "      <td>2625.000000</td>\n",
       "      <td>2.000000</td>\n",
       "      <td>157.480000</td>\n",
       "      <td>117.000000</td>\n",
       "    </tr>\n",
       "    <tr>\n",
       "      <th>25%</th>\n",
       "      <td>2767.750000</td>\n",
       "      <td>35555.500000</td>\n",
       "      <td>151889.500000</td>\n",
       "      <td>177.800000</td>\n",
       "      <td>159.000000</td>\n",
       "    </tr>\n",
       "    <tr>\n",
       "      <th>50%</th>\n",
       "      <td>5536.500000</td>\n",
       "      <td>96619.500000</td>\n",
       "      <td>184671.000000</td>\n",
       "      <td>182.880000</td>\n",
       "      <td>168.000000</td>\n",
       "    </tr>\n",
       "    <tr>\n",
       "      <th>75%</th>\n",
       "      <td>8306.250000</td>\n",
       "      <td>212470.500000</td>\n",
       "      <td>203883.250000</td>\n",
       "      <td>185.420000</td>\n",
       "      <td>179.000000</td>\n",
       "    </tr>\n",
       "    <tr>\n",
       "      <th>max</th>\n",
       "      <td>11075.000000</td>\n",
       "      <td>750584.000000</td>\n",
       "      <td>234141.000000</td>\n",
       "      <td>208.280000</td>\n",
       "      <td>243.000000</td>\n",
       "    </tr>\n",
       "  </tbody>\n",
       "</table>\n",
       "</div>"
      ]
     },
     "execution_count": 6,
     "metadata": {},
     "output_type": "execute_result"
    }
   ],
   "source": [
    "df_player.describe()"
   ]
  },
  {
   "cell_type": "code",
   "execution_count": 7,
   "metadata": {},
   "outputs": [
    {
     "data": {
      "text/html": [
       "<pre style=\"white-space:pre;overflow-x:auto;line-height:normal;font-family:Menlo,'DejaVu Sans Mono',consolas,'Courier New',monospace\"><span style=\"font-weight: bold\">(</span><span style=\"color: #008080; text-decoration-color: #008080; font-weight: bold\">11060</span>, <span style=\"color: #008080; text-decoration-color: #008080; font-weight: bold\">7</span><span style=\"font-weight: bold\">)</span>\n",
       "</pre>\n"
      ],
      "text/plain": [
       "\u001b[1m(\u001b[0m\u001b[1;36m11060\u001b[0m, \u001b[1;36m7\u001b[0m\u001b[1m)\u001b[0m\n"
      ]
     },
     "metadata": {},
     "output_type": "display_data"
    }
   ],
   "source": [
    "df_player.shape"
   ]
  },
  {
   "cell_type": "code",
   "execution_count": 8,
   "metadata": {},
   "outputs": [
    {
     "data": {
      "text/html": [
       "<pre style=\"white-space:pre;overflow-x:auto;line-height:normal;font-family:Menlo,'DejaVu Sans Mono',consolas,'Courier New',monospace\">\n",
       "id                    <span style=\"color: #008080; text-decoration-color: #008080; font-weight: bold\">0</span>\n",
       "player_api_id         <span style=\"color: #008080; text-decoration-color: #008080; font-weight: bold\">0</span>\n",
       "player_name           <span style=\"color: #008080; text-decoration-color: #008080; font-weight: bold\">0</span>\n",
       "player_fifa_api_id    <span style=\"color: #008080; text-decoration-color: #008080; font-weight: bold\">0</span>\n",
       "birthday              <span style=\"color: #008080; text-decoration-color: #008080; font-weight: bold\">0</span>\n",
       "height                <span style=\"color: #008080; text-decoration-color: #008080; font-weight: bold\">0</span>\n",
       "weight                <span style=\"color: #008080; text-decoration-color: #008080; font-weight: bold\">0</span>\n",
       "dtype: int64\n",
       "</pre>\n"
      ],
      "text/plain": [
       "\n",
       "id                    \u001b[1;36m0\u001b[0m\n",
       "player_api_id         \u001b[1;36m0\u001b[0m\n",
       "player_name           \u001b[1;36m0\u001b[0m\n",
       "player_fifa_api_id    \u001b[1;36m0\u001b[0m\n",
       "birthday              \u001b[1;36m0\u001b[0m\n",
       "height                \u001b[1;36m0\u001b[0m\n",
       "weight                \u001b[1;36m0\u001b[0m\n",
       "dtype: int64\n"
      ]
     },
     "metadata": {},
     "output_type": "display_data"
    }
   ],
   "source": [
    "# get nan count\n",
    "df_player.isna().sum()"
   ]
  },
  {
   "cell_type": "code",
   "execution_count": 9,
   "metadata": {},
   "outputs": [
    {
     "data": {
      "text/html": [
       "<pre style=\"white-space:pre;overflow-x:auto;line-height:normal;font-family:Menlo,'DejaVu Sans Mono',consolas,'Courier New',monospace\"><span style=\"font-weight: bold\">[</span>\n",
       "    <span style=\"color: #008000; text-decoration-color: #008000\">'id'</span>,\n",
       "    <span style=\"color: #008000; text-decoration-color: #008000\">'player_fifa_api_id'</span>,\n",
       "    <span style=\"color: #008000; text-decoration-color: #008000\">'player_api_id'</span>,\n",
       "    <span style=\"color: #008000; text-decoration-color: #008000\">'date'</span>,\n",
       "    <span style=\"color: #008000; text-decoration-color: #008000\">'overall_rating'</span>,\n",
       "    <span style=\"color: #008000; text-decoration-color: #008000\">'potential'</span>,\n",
       "    <span style=\"color: #008000; text-decoration-color: #008000\">'preferred_foot'</span>,\n",
       "    <span style=\"color: #008000; text-decoration-color: #008000\">'attacking_work_rate'</span>,\n",
       "    <span style=\"color: #008000; text-decoration-color: #008000\">'defensive_work_rate'</span>,\n",
       "    <span style=\"color: #008000; text-decoration-color: #008000\">'crossing'</span>,\n",
       "    <span style=\"color: #008000; text-decoration-color: #008000\">'finishing'</span>,\n",
       "    <span style=\"color: #008000; text-decoration-color: #008000\">'heading_accuracy'</span>,\n",
       "    <span style=\"color: #008000; text-decoration-color: #008000\">'short_passing'</span>,\n",
       "    <span style=\"color: #008000; text-decoration-color: #008000\">'volleys'</span>,\n",
       "    <span style=\"color: #008000; text-decoration-color: #008000\">'dribbling'</span>,\n",
       "    <span style=\"color: #008000; text-decoration-color: #008000\">'curve'</span>,\n",
       "    <span style=\"color: #008000; text-decoration-color: #008000\">'free_kick_accuracy'</span>,\n",
       "    <span style=\"color: #008000; text-decoration-color: #008000\">'long_passing'</span>,\n",
       "    <span style=\"color: #008000; text-decoration-color: #008000\">'ball_control'</span>,\n",
       "    <span style=\"color: #008000; text-decoration-color: #008000\">'acceleration'</span>,\n",
       "    <span style=\"color: #008000; text-decoration-color: #008000\">'sprint_speed'</span>,\n",
       "    <span style=\"color: #008000; text-decoration-color: #008000\">'agility'</span>,\n",
       "    <span style=\"color: #008000; text-decoration-color: #008000\">'reactions'</span>,\n",
       "    <span style=\"color: #008000; text-decoration-color: #008000\">'balance'</span>,\n",
       "    <span style=\"color: #008000; text-decoration-color: #008000\">'shot_power'</span>,\n",
       "    <span style=\"color: #008000; text-decoration-color: #008000\">'jumping'</span>,\n",
       "    <span style=\"color: #008000; text-decoration-color: #008000\">'stamina'</span>,\n",
       "    <span style=\"color: #008000; text-decoration-color: #008000\">'strength'</span>,\n",
       "    <span style=\"color: #008000; text-decoration-color: #008000\">'long_shots'</span>,\n",
       "    <span style=\"color: #008000; text-decoration-color: #008000\">'aggression'</span>,\n",
       "    <span style=\"color: #008000; text-decoration-color: #008000\">'interceptions'</span>,\n",
       "    <span style=\"color: #008000; text-decoration-color: #008000\">'positioning'</span>,\n",
       "    <span style=\"color: #008000; text-decoration-color: #008000\">'vision'</span>,\n",
       "    <span style=\"color: #008000; text-decoration-color: #008000\">'penalties'</span>,\n",
       "    <span style=\"color: #008000; text-decoration-color: #008000\">'marking'</span>,\n",
       "    <span style=\"color: #008000; text-decoration-color: #008000\">'standing_tackle'</span>,\n",
       "    <span style=\"color: #008000; text-decoration-color: #008000\">'sliding_tackle'</span>,\n",
       "    <span style=\"color: #008000; text-decoration-color: #008000\">'gk_diving'</span>,\n",
       "    <span style=\"color: #008000; text-decoration-color: #008000\">'gk_handling'</span>,\n",
       "    <span style=\"color: #008000; text-decoration-color: #008000\">'gk_kicking'</span>,\n",
       "    <span style=\"color: #008000; text-decoration-color: #008000\">'gk_positioning'</span>,\n",
       "    <span style=\"color: #008000; text-decoration-color: #008000\">'gk_reflexes'</span>\n",
       "<span style=\"font-weight: bold\">]</span>\n",
       "</pre>\n"
      ],
      "text/plain": [
       "\u001b[1m[\u001b[0m\n",
       "    \u001b[32m'id'\u001b[0m,\n",
       "    \u001b[32m'player_fifa_api_id'\u001b[0m,\n",
       "    \u001b[32m'player_api_id'\u001b[0m,\n",
       "    \u001b[32m'date'\u001b[0m,\n",
       "    \u001b[32m'overall_rating'\u001b[0m,\n",
       "    \u001b[32m'potential'\u001b[0m,\n",
       "    \u001b[32m'preferred_foot'\u001b[0m,\n",
       "    \u001b[32m'attacking_work_rate'\u001b[0m,\n",
       "    \u001b[32m'defensive_work_rate'\u001b[0m,\n",
       "    \u001b[32m'crossing'\u001b[0m,\n",
       "    \u001b[32m'finishing'\u001b[0m,\n",
       "    \u001b[32m'heading_accuracy'\u001b[0m,\n",
       "    \u001b[32m'short_passing'\u001b[0m,\n",
       "    \u001b[32m'volleys'\u001b[0m,\n",
       "    \u001b[32m'dribbling'\u001b[0m,\n",
       "    \u001b[32m'curve'\u001b[0m,\n",
       "    \u001b[32m'free_kick_accuracy'\u001b[0m,\n",
       "    \u001b[32m'long_passing'\u001b[0m,\n",
       "    \u001b[32m'ball_control'\u001b[0m,\n",
       "    \u001b[32m'acceleration'\u001b[0m,\n",
       "    \u001b[32m'sprint_speed'\u001b[0m,\n",
       "    \u001b[32m'agility'\u001b[0m,\n",
       "    \u001b[32m'reactions'\u001b[0m,\n",
       "    \u001b[32m'balance'\u001b[0m,\n",
       "    \u001b[32m'shot_power'\u001b[0m,\n",
       "    \u001b[32m'jumping'\u001b[0m,\n",
       "    \u001b[32m'stamina'\u001b[0m,\n",
       "    \u001b[32m'strength'\u001b[0m,\n",
       "    \u001b[32m'long_shots'\u001b[0m,\n",
       "    \u001b[32m'aggression'\u001b[0m,\n",
       "    \u001b[32m'interceptions'\u001b[0m,\n",
       "    \u001b[32m'positioning'\u001b[0m,\n",
       "    \u001b[32m'vision'\u001b[0m,\n",
       "    \u001b[32m'penalties'\u001b[0m,\n",
       "    \u001b[32m'marking'\u001b[0m,\n",
       "    \u001b[32m'standing_tackle'\u001b[0m,\n",
       "    \u001b[32m'sliding_tackle'\u001b[0m,\n",
       "    \u001b[32m'gk_diving'\u001b[0m,\n",
       "    \u001b[32m'gk_handling'\u001b[0m,\n",
       "    \u001b[32m'gk_kicking'\u001b[0m,\n",
       "    \u001b[32m'gk_positioning'\u001b[0m,\n",
       "    \u001b[32m'gk_reflexes'\u001b[0m\n",
       "\u001b[1m]\u001b[0m\n"
      ]
     },
     "metadata": {},
     "output_type": "display_data"
    }
   ],
   "source": [
    "print(list(df_player_attributes.columns))"
   ]
  },
  {
   "cell_type": "code",
   "execution_count": 10,
   "metadata": {},
   "outputs": [
    {
     "data": {
      "text/html": [
       "<div>\n",
       "<style scoped>\n",
       "    .dataframe tbody tr th:only-of-type {\n",
       "        vertical-align: middle;\n",
       "    }\n",
       "\n",
       "    .dataframe tbody tr th {\n",
       "        vertical-align: top;\n",
       "    }\n",
       "\n",
       "    .dataframe thead th {\n",
       "        text-align: right;\n",
       "    }\n",
       "</style>\n",
       "<table border=\"1\" class=\"dataframe\">\n",
       "  <thead>\n",
       "    <tr style=\"text-align: right;\">\n",
       "      <th></th>\n",
       "      <th>id</th>\n",
       "      <th>player_fifa_api_id</th>\n",
       "      <th>player_api_id</th>\n",
       "      <th>date</th>\n",
       "      <th>overall_rating</th>\n",
       "      <th>potential</th>\n",
       "      <th>preferred_foot</th>\n",
       "      <th>attacking_work_rate</th>\n",
       "      <th>defensive_work_rate</th>\n",
       "      <th>crossing</th>\n",
       "      <th>...</th>\n",
       "      <th>vision</th>\n",
       "      <th>penalties</th>\n",
       "      <th>marking</th>\n",
       "      <th>standing_tackle</th>\n",
       "      <th>sliding_tackle</th>\n",
       "      <th>gk_diving</th>\n",
       "      <th>gk_handling</th>\n",
       "      <th>gk_kicking</th>\n",
       "      <th>gk_positioning</th>\n",
       "      <th>gk_reflexes</th>\n",
       "    </tr>\n",
       "  </thead>\n",
       "  <tbody>\n",
       "    <tr>\n",
       "      <th>0</th>\n",
       "      <td>1</td>\n",
       "      <td>218353</td>\n",
       "      <td>505942</td>\n",
       "      <td>2016-02-18 00:00:00</td>\n",
       "      <td>67.0</td>\n",
       "      <td>71.0</td>\n",
       "      <td>right</td>\n",
       "      <td>medium</td>\n",
       "      <td>medium</td>\n",
       "      <td>49.0</td>\n",
       "      <td>...</td>\n",
       "      <td>54.0</td>\n",
       "      <td>48.0</td>\n",
       "      <td>65.0</td>\n",
       "      <td>69.0</td>\n",
       "      <td>69.0</td>\n",
       "      <td>6.0</td>\n",
       "      <td>11.0</td>\n",
       "      <td>10.0</td>\n",
       "      <td>8.0</td>\n",
       "      <td>8.0</td>\n",
       "    </tr>\n",
       "    <tr>\n",
       "      <th>1</th>\n",
       "      <td>2</td>\n",
       "      <td>218353</td>\n",
       "      <td>505942</td>\n",
       "      <td>2015-11-19 00:00:00</td>\n",
       "      <td>67.0</td>\n",
       "      <td>71.0</td>\n",
       "      <td>right</td>\n",
       "      <td>medium</td>\n",
       "      <td>medium</td>\n",
       "      <td>49.0</td>\n",
       "      <td>...</td>\n",
       "      <td>54.0</td>\n",
       "      <td>48.0</td>\n",
       "      <td>65.0</td>\n",
       "      <td>69.0</td>\n",
       "      <td>69.0</td>\n",
       "      <td>6.0</td>\n",
       "      <td>11.0</td>\n",
       "      <td>10.0</td>\n",
       "      <td>8.0</td>\n",
       "      <td>8.0</td>\n",
       "    </tr>\n",
       "    <tr>\n",
       "      <th>2</th>\n",
       "      <td>3</td>\n",
       "      <td>218353</td>\n",
       "      <td>505942</td>\n",
       "      <td>2015-09-21 00:00:00</td>\n",
       "      <td>62.0</td>\n",
       "      <td>66.0</td>\n",
       "      <td>right</td>\n",
       "      <td>medium</td>\n",
       "      <td>medium</td>\n",
       "      <td>49.0</td>\n",
       "      <td>...</td>\n",
       "      <td>54.0</td>\n",
       "      <td>48.0</td>\n",
       "      <td>65.0</td>\n",
       "      <td>66.0</td>\n",
       "      <td>69.0</td>\n",
       "      <td>6.0</td>\n",
       "      <td>11.0</td>\n",
       "      <td>10.0</td>\n",
       "      <td>8.0</td>\n",
       "      <td>8.0</td>\n",
       "    </tr>\n",
       "    <tr>\n",
       "      <th>3</th>\n",
       "      <td>4</td>\n",
       "      <td>218353</td>\n",
       "      <td>505942</td>\n",
       "      <td>2015-03-20 00:00:00</td>\n",
       "      <td>61.0</td>\n",
       "      <td>65.0</td>\n",
       "      <td>right</td>\n",
       "      <td>medium</td>\n",
       "      <td>medium</td>\n",
       "      <td>48.0</td>\n",
       "      <td>...</td>\n",
       "      <td>53.0</td>\n",
       "      <td>47.0</td>\n",
       "      <td>62.0</td>\n",
       "      <td>63.0</td>\n",
       "      <td>66.0</td>\n",
       "      <td>5.0</td>\n",
       "      <td>10.0</td>\n",
       "      <td>9.0</td>\n",
       "      <td>7.0</td>\n",
       "      <td>7.0</td>\n",
       "    </tr>\n",
       "    <tr>\n",
       "      <th>4</th>\n",
       "      <td>5</td>\n",
       "      <td>218353</td>\n",
       "      <td>505942</td>\n",
       "      <td>2007-02-22 00:00:00</td>\n",
       "      <td>61.0</td>\n",
       "      <td>65.0</td>\n",
       "      <td>right</td>\n",
       "      <td>medium</td>\n",
       "      <td>medium</td>\n",
       "      <td>48.0</td>\n",
       "      <td>...</td>\n",
       "      <td>53.0</td>\n",
       "      <td>47.0</td>\n",
       "      <td>62.0</td>\n",
       "      <td>63.0</td>\n",
       "      <td>66.0</td>\n",
       "      <td>5.0</td>\n",
       "      <td>10.0</td>\n",
       "      <td>9.0</td>\n",
       "      <td>7.0</td>\n",
       "      <td>7.0</td>\n",
       "    </tr>\n",
       "  </tbody>\n",
       "</table>\n",
       "<p>5 rows × 42 columns</p>\n",
       "</div>"
      ]
     },
     "execution_count": 10,
     "metadata": {},
     "output_type": "execute_result"
    }
   ],
   "source": [
    "df_player_attributes.head()"
   ]
  },
  {
   "cell_type": "code",
   "execution_count": 11,
   "metadata": {},
   "outputs": [
    {
     "data": {
      "text/html": [
       "<pre style=\"white-space:pre;overflow-x:auto;line-height:normal;font-family:Menlo,'DejaVu Sans Mono',consolas,'Courier New',monospace\"><span style=\"font-weight: bold\">(</span><span style=\"color: #008080; text-decoration-color: #008080; font-weight: bold\">183978</span>, <span style=\"color: #008080; text-decoration-color: #008080; font-weight: bold\">42</span><span style=\"font-weight: bold\">)</span>\n",
       "</pre>\n"
      ],
      "text/plain": [
       "\u001b[1m(\u001b[0m\u001b[1;36m183978\u001b[0m, \u001b[1;36m42\u001b[0m\u001b[1m)\u001b[0m\n"
      ]
     },
     "metadata": {},
     "output_type": "display_data"
    }
   ],
   "source": [
    "df_player_attributes.shape"
   ]
  },
  {
   "cell_type": "code",
   "execution_count": 12,
   "metadata": {},
   "outputs": [
    {
     "data": {
      "text/html": [
       "<pre style=\"white-space:pre;overflow-x:auto;line-height:normal;font-family:Menlo,'DejaVu Sans Mono',consolas,'Courier New',monospace\">\n",
       "id                        <span style=\"color: #008080; text-decoration-color: #008080; font-weight: bold\">0</span>\n",
       "player_fifa_api_id        <span style=\"color: #008080; text-decoration-color: #008080; font-weight: bold\">0</span>\n",
       "player_api_id             <span style=\"color: #008080; text-decoration-color: #008080; font-weight: bold\">0</span>\n",
       "date                      <span style=\"color: #008080; text-decoration-color: #008080; font-weight: bold\">0</span>\n",
       "overall_rating          <span style=\"color: #008080; text-decoration-color: #008080; font-weight: bold\">836</span>\n",
       "potential               <span style=\"color: #008080; text-decoration-color: #008080; font-weight: bold\">836</span>\n",
       "preferred_foot          <span style=\"color: #008080; text-decoration-color: #008080; font-weight: bold\">836</span>\n",
       "attacking_work_rate    <span style=\"color: #008080; text-decoration-color: #008080; font-weight: bold\">3230</span>\n",
       "defensive_work_rate     <span style=\"color: #008080; text-decoration-color: #008080; font-weight: bold\">836</span>\n",
       "crossing                <span style=\"color: #008080; text-decoration-color: #008080; font-weight: bold\">836</span>\n",
       "finishing               <span style=\"color: #008080; text-decoration-color: #008080; font-weight: bold\">836</span>\n",
       "heading_accuracy        <span style=\"color: #008080; text-decoration-color: #008080; font-weight: bold\">836</span>\n",
       "short_passing           <span style=\"color: #008080; text-decoration-color: #008080; font-weight: bold\">836</span>\n",
       "volleys                <span style=\"color: #008080; text-decoration-color: #008080; font-weight: bold\">2713</span>\n",
       "dribbling               <span style=\"color: #008080; text-decoration-color: #008080; font-weight: bold\">836</span>\n",
       "curve                  <span style=\"color: #008080; text-decoration-color: #008080; font-weight: bold\">2713</span>\n",
       "free_kick_accuracy      <span style=\"color: #008080; text-decoration-color: #008080; font-weight: bold\">836</span>\n",
       "long_passing            <span style=\"color: #008080; text-decoration-color: #008080; font-weight: bold\">836</span>\n",
       "ball_control            <span style=\"color: #008080; text-decoration-color: #008080; font-weight: bold\">836</span>\n",
       "acceleration            <span style=\"color: #008080; text-decoration-color: #008080; font-weight: bold\">836</span>\n",
       "sprint_speed            <span style=\"color: #008080; text-decoration-color: #008080; font-weight: bold\">836</span>\n",
       "agility                <span style=\"color: #008080; text-decoration-color: #008080; font-weight: bold\">2713</span>\n",
       "reactions               <span style=\"color: #008080; text-decoration-color: #008080; font-weight: bold\">836</span>\n",
       "balance                <span style=\"color: #008080; text-decoration-color: #008080; font-weight: bold\">2713</span>\n",
       "shot_power              <span style=\"color: #008080; text-decoration-color: #008080; font-weight: bold\">836</span>\n",
       "jumping                <span style=\"color: #008080; text-decoration-color: #008080; font-weight: bold\">2713</span>\n",
       "stamina                 <span style=\"color: #008080; text-decoration-color: #008080; font-weight: bold\">836</span>\n",
       "strength                <span style=\"color: #008080; text-decoration-color: #008080; font-weight: bold\">836</span>\n",
       "long_shots              <span style=\"color: #008080; text-decoration-color: #008080; font-weight: bold\">836</span>\n",
       "aggression              <span style=\"color: #008080; text-decoration-color: #008080; font-weight: bold\">836</span>\n",
       "interceptions           <span style=\"color: #008080; text-decoration-color: #008080; font-weight: bold\">836</span>\n",
       "positioning             <span style=\"color: #008080; text-decoration-color: #008080; font-weight: bold\">836</span>\n",
       "vision                 <span style=\"color: #008080; text-decoration-color: #008080; font-weight: bold\">2713</span>\n",
       "penalties               <span style=\"color: #008080; text-decoration-color: #008080; font-weight: bold\">836</span>\n",
       "marking                 <span style=\"color: #008080; text-decoration-color: #008080; font-weight: bold\">836</span>\n",
       "standing_tackle         <span style=\"color: #008080; text-decoration-color: #008080; font-weight: bold\">836</span>\n",
       "sliding_tackle         <span style=\"color: #008080; text-decoration-color: #008080; font-weight: bold\">2713</span>\n",
       "gk_diving               <span style=\"color: #008080; text-decoration-color: #008080; font-weight: bold\">836</span>\n",
       "gk_handling             <span style=\"color: #008080; text-decoration-color: #008080; font-weight: bold\">836</span>\n",
       "gk_kicking              <span style=\"color: #008080; text-decoration-color: #008080; font-weight: bold\">836</span>\n",
       "gk_positioning          <span style=\"color: #008080; text-decoration-color: #008080; font-weight: bold\">836</span>\n",
       "gk_reflexes             <span style=\"color: #008080; text-decoration-color: #008080; font-weight: bold\">836</span>\n",
       "dtype: int64\n",
       "</pre>\n"
      ],
      "text/plain": [
       "\n",
       "id                        \u001b[1;36m0\u001b[0m\n",
       "player_fifa_api_id        \u001b[1;36m0\u001b[0m\n",
       "player_api_id             \u001b[1;36m0\u001b[0m\n",
       "date                      \u001b[1;36m0\u001b[0m\n",
       "overall_rating          \u001b[1;36m836\u001b[0m\n",
       "potential               \u001b[1;36m836\u001b[0m\n",
       "preferred_foot          \u001b[1;36m836\u001b[0m\n",
       "attacking_work_rate    \u001b[1;36m3230\u001b[0m\n",
       "defensive_work_rate     \u001b[1;36m836\u001b[0m\n",
       "crossing                \u001b[1;36m836\u001b[0m\n",
       "finishing               \u001b[1;36m836\u001b[0m\n",
       "heading_accuracy        \u001b[1;36m836\u001b[0m\n",
       "short_passing           \u001b[1;36m836\u001b[0m\n",
       "volleys                \u001b[1;36m2713\u001b[0m\n",
       "dribbling               \u001b[1;36m836\u001b[0m\n",
       "curve                  \u001b[1;36m2713\u001b[0m\n",
       "free_kick_accuracy      \u001b[1;36m836\u001b[0m\n",
       "long_passing            \u001b[1;36m836\u001b[0m\n",
       "ball_control            \u001b[1;36m836\u001b[0m\n",
       "acceleration            \u001b[1;36m836\u001b[0m\n",
       "sprint_speed            \u001b[1;36m836\u001b[0m\n",
       "agility                \u001b[1;36m2713\u001b[0m\n",
       "reactions               \u001b[1;36m836\u001b[0m\n",
       "balance                \u001b[1;36m2713\u001b[0m\n",
       "shot_power              \u001b[1;36m836\u001b[0m\n",
       "jumping                \u001b[1;36m2713\u001b[0m\n",
       "stamina                 \u001b[1;36m836\u001b[0m\n",
       "strength                \u001b[1;36m836\u001b[0m\n",
       "long_shots              \u001b[1;36m836\u001b[0m\n",
       "aggression              \u001b[1;36m836\u001b[0m\n",
       "interceptions           \u001b[1;36m836\u001b[0m\n",
       "positioning             \u001b[1;36m836\u001b[0m\n",
       "vision                 \u001b[1;36m2713\u001b[0m\n",
       "penalties               \u001b[1;36m836\u001b[0m\n",
       "marking                 \u001b[1;36m836\u001b[0m\n",
       "standing_tackle         \u001b[1;36m836\u001b[0m\n",
       "sliding_tackle         \u001b[1;36m2713\u001b[0m\n",
       "gk_diving               \u001b[1;36m836\u001b[0m\n",
       "gk_handling             \u001b[1;36m836\u001b[0m\n",
       "gk_kicking              \u001b[1;36m836\u001b[0m\n",
       "gk_positioning          \u001b[1;36m836\u001b[0m\n",
       "gk_reflexes             \u001b[1;36m836\u001b[0m\n",
       "dtype: int64\n"
      ]
     },
     "metadata": {},
     "output_type": "display_data"
    }
   ],
   "source": [
    "# get nan count\n",
    "df_player_attributes.isna().sum()"
   ]
  }
 ],
 "metadata": {
  "kernelspec": {
   "display_name": "env",
   "language": "python",
   "name": "python3"
  },
  "language_info": {
   "codemirror_mode": {
    "name": "ipython",
    "version": 3
   },
   "file_extension": ".py",
   "mimetype": "text/x-python",
   "name": "python",
   "nbconvert_exporter": "python",
   "pygments_lexer": "ipython3",
   "version": "3.10.6"
  },
  "orig_nbformat": 4,
  "vscode": {
   "interpreter": {
    "hash": "3e9c7df1f47261c64b9edc3214e914ffb23ae90beac3e93e978ed4662f4e7b1b"
   }
  }
 },
 "nbformat": 4,
 "nbformat_minor": 2
}
